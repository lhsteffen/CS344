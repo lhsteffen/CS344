{
 "cells": [
  {
   "cell_type": "markdown",
   "metadata": {},
   "source": [
    "# Homework 03\n",
    "\n",
    "This Jupyter notebook calculates information gain of the restaurant example, examines the XOR network, and uses Keras to create a model for the Boston Housing dataset.\n",
    "\n",
    "Author: Luke Steffen (lhs3)\n",
    "\n",
    "Version: 04/06/2020"
   ]
  },
  {
   "cell_type": "markdown",
   "metadata": {},
   "source": [
    "### 1. Information Gain of price\n",
    "![title](restaurant_data.png)"
   ]
  },
  {
   "cell_type": "markdown",
   "metadata": {},
   "source": [
    "**Information Gain = Gain(A) = B(p/(p+n)) - Remainder(A)**\n",
    "\n",
    "B(p/(p+n)) = 6 / 12 = 0.5 -> 1 bit\n",
    "\n",
    "B(q) = -(q * log2(q) + (1 - q) * log2(1 - q))\n",
    "\n",
    "Remainder(A) = Sum[(pk + nk)/(p+n) * B(pk/(pk + nk))]\n",
    "\n",
    "Price -> 3 choices for attribute\n",
    "\n",
    "\\$ -> 7 occurrences\n",
    "\n",
    "\\$$ -> 2 occurrences\n",
    "\n",
    "\\$$$ -> 3 occurrences\n",
    "\n",
    "---------------------------------------------------------------------\n",
    "\n",
    "\\$ -> 3 positive occurrences & 4 negative occurrences\n",
    "\n",
    "\\$$ -> 2 positive occurrences & 0 negative occurrences\n",
    "\n",
    "\\$$$ -> 1 positive occurrence & 2 negative occurrences\n",
    "\n",
    "--------------------------------------------------------------------\n",
    "\n",
    "**Sum[(pk + nk)/(p+n) * B(pk/(pk + nk))]**\n",
    "\n",
    "\\$ -> (3 + 4) / (6 + 6) * B(3 / (3 + 4)) = 0.5747164127\n",
    "\n",
    "    B(3/7) = 0.985228136\n",
    "    \n",
    "\\$$ -> (2 + 0) / (6 + 6) * B(2 / (2 + 0)) = 0\n",
    "\n",
    "    B(1) = 0\n",
    "    \n",
    "\\$$$ -> (1 + 2) / (6 + 6) * B(1 / (1 + 2)) = 0.2295739585\n",
    "\n",
    "    B(1/3) = 0.9182958341\n",
    "    \n",
    "Sum[(pk + nk)/(p+n) * B(pk/(pk + nk))] = 0.5747164127 + 0 + 0.2295739585 = 0.804\n",
    "\n",
    "--------------------------------------------------------------------\n",
    "\n",
    "Gain(Price) = 1 - 0.804 = 0.196 bits"
   ]
  },
  {
   "cell_type": "markdown",
   "metadata": {},
   "source": [
    "The information gain from making the root of the tree price results in\n",
    "0.196 bits gained. The information gained from price is higher than the information gained from type, which is 0 bits. However, it is not as much gain as patrons, which had a gain of 0.541 bits. Because partons has a higher information gain, it would be a better option to make patrons the root of the tree."
   ]
  },
  {
   "cell_type": "markdown",
   "metadata": {},
   "source": [
    "### 2. XOR Network Simplification"
   ]
  },
  {
   "cell_type": "markdown",
   "metadata": {},
   "source": [
    "It is not possible to simplify the network beyond the network created in class. The network created in class is below.\n",
    "\n",
    "\n",
    "                        input1  input2                               input1   input2\n",
    "               (weight1)   \\      /  (weight2)               (weight1)   \\     /   (weight2)\n",
    "                            \\    /                                        \\   /\n",
    "                           AND Node   <- bias1                           OR Node   <- bias1\n",
    "                               |                                            |\n",
    "                               |                                            |\n",
    "                                \\                                          /\n",
    "                                 \\                                        /\n",
    "                                  \\                                      /\n",
    "                                   \\                                    /\n",
    "                                    \\                                  /\n",
    "                                     \\                                /\n",
    "                                      \\                              /\n",
    "                                       \\                            /\n",
    "                                        \\ weight3          weight3 /\n",
    "                                         -------            -------\n",
    "                                                \\          /\n",
    "                                         bias2 -> Neuron 3\n",
    "                                                     |\n",
    "                                                     |\n",
    "                                                     |\n",
    "                                                   Output"
   ]
  },
  {
   "cell_type": "markdown",
   "metadata": {},
   "source": [
    "The reason why this cannot be further simplified is because of the nature of the XOR problem. If we were to use only one layer, we would be using perceptrons instead of a neural network. Perceptrons are only able to solve problems that are linearly separable. A lineraly separable problem is one that, when graphed, a linear line can be drawn which separates positive answers from negative answers. XOR is not a linearly separable problem and this can be shown if the problem is graphed, which would look something like the below graph.\n",
    "\n",
    "                   1 o            *\n",
    "                     |\n",
    "                     |\n",
    "                     |\n",
    "                     |\n",
    "                     |\n",
    "                     *------------o\n",
    "                     0            1\n",
    "                     \n",
    "          Where o is positive and * is negative\n",
    "\n",
    "\n",
    "If we were to attempt to draw a line to separate the positive answers from the negative answers, we would find that there is no point where a single line can be drawn to separate the answers. Because of this, XOR is not considered a linearly separable problem. Because XOR is not linearly separable, it is impossible to design a network with only one layer. This means we need at least one more layer to solve the XOR problem. The deep neural network solved in class is a network of 2 layers, which is the simplest network we can create to solve a non-linear problem. Therefore, we cannot simplify the network created in class any further."
   ]
  },
  {
   "cell_type": "markdown",
   "metadata": {},
   "source": [
    "### 3. Boston Housing Dataset"
   ]
  },
  {
   "cell_type": "code",
   "execution_count": null,
   "metadata": {},
   "outputs": [],
   "source": []
  }
 ],
 "metadata": {
  "kernelspec": {
   "display_name": "Python 3",
   "language": "python",
   "name": "python3"
  },
  "language_info": {
   "codemirror_mode": {
    "name": "ipython",
    "version": 3
   },
   "file_extension": ".py",
   "mimetype": "text/x-python",
   "name": "python",
   "nbconvert_exporter": "python",
   "pygments_lexer": "ipython3",
   "version": "3.7.4"
  }
 },
 "nbformat": 4,
 "nbformat_minor": 2
}
