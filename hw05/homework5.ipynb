{
 "cells": [
  {
   "cell_type": "markdown",
   "metadata": {},
   "source": [
    "# Homework 05\n",
    "\n",
    "This homework examines two logical problems presented by both the AIMA text and LPN! tutorials\n",
    "\n",
    "Author: Luke Steffen (lhs3)\n",
    "\n",
    "Version: 05/13/2020"
   ]
  },
  {
   "cell_type": "markdown",
   "metadata": {},
   "source": [
    "## Exercise 7.2 (AIMA Text)\n",
    "\n",
    "Graph of logical statements:\n",
    "\n",
    "                                             True\n",
    "                         mythical(unicorn)    ->    immortal(unicorn)\n",
    "                                |                          |\n",
    "                                | False                    |  True\n",
    "                                v            True          v\n",
    "                          mortal(unicorn)     ->     horned(unicorn)\n",
    "                                                           |\n",
    "                                                           |\n",
    "                                                           v\n",
    "                                                    magical(unicorn)\n",
    "                                                    \n",
    "Given this information, we are not able to prove whether or not the unicorn is mythical. There is not enough information given to prove if the unicorn is mythical, but we can prove that the unicorn is both horned and magical. From the information we have been given, we know that the unicorn is always horned. When looking at the information given, if the unicorn is mythical, then it is immortal, otherwise it is mortal. The unicorn must be either mortal or immortal because mythical is a binary predicate (either it's true or false). Both binary options, immortal or mortal, lead to the unicorn being horned (that is, if the unicorn is immortal, then it is horned and if the unicorn is mortal, then it is horned). Because the unicorn must be either immortal or mortal and both options lead to the unicorn being horned, we can prove the unicorn is horned. We can also prove the unicorn is magical. Because the unicorn is proven to be horned and if the unicorn is horned, it is magical, then the unicorn must also be magical.\n",
    "\n",
    "I believe this can be programmed in Prolog relatively easily. It wouldn't be too difficult to create predicates that set up the solution. The only difficult part would be the mythical function, since the unicorn can either be mythical or not mythical. However, you could create a function not_mythical/1 to represent the false scenario. From this, we can simply run the program once with the unicorn being mythical to see if the unicorn is horned and magical. Once we have run that, we can then rerun the program with the unicorn being not_mythical to see if it is horned and magical. If both of these result in the unicorn being horned and magical, then we can prove the unicorn is horned and magical. I believe the knowledge base would look something like the following.\n",
    "\n",
    "not_mythical(Z):-mortal(Z).\n",
    "\n",
    "mythical(X):-immortal(X).\n",
    "\n",
    "immortal(Y); mortal(Y):-horned(Y).\n",
    "\n",
    "horned(W):-magical(W).\n",
    "\n",
    "With this knowledge base, we can then just add the rule mythical(unicorn) for the first test then not_mythical(unicorn) for the second test. While we need to run the program twice, changing a line of code to successfully test this, this is a simple way of solving this problem in Prolog."
   ]
  },
  {
   "cell_type": "markdown",
   "metadata": {},
   "source": [
    "# Exercise 2.4 (LPN!)\n",
    "\n",
    "Prolog knowledge base:\n",
    "\n",
    "word(astante,  a,s,t,a,n,t,e).\n",
    "\n",
    "word(astoria,  a,s,t,o,r,i,a).\n",
    "\n",
    "word(baratto,  b,a,r,a,t,t,o).\n",
    "\n",
    "word(cobalto,  c,o,b,a,l,t,o).\n",
    "\n",
    "word(pistola,  p,i,s,t,o,l,a).\n",
    "\n",
    "word(statale,  s,t,a,t,a,l,e).\n",
    "\n",
    "------------------------------------------------------------------------------------------------------------------\n",
    "\n",
    "Predicate crossword/6:\n",
    "\n",
    "crossword(V1, V2, V3, H1, H2, H3):-word(H1, _, H12V12, _, H14V22, _ H16V32, _),\n",
    "                                   word(H2, _, H22V14, _, H24V24, _, H26V34, _),                                  \n",
    "                                   word(H3, _, H32V16, _, H34V26, _ H36V36, _),                                   \n",
    "                                   word(V1, _, H12V12, _, H22V14, _, H32V16, _),                                  \n",
    "                                   word(V2, _, H14V22, _, H24V24, _, H34V26, _),                                  \n",
    "                                   word(V3, _, H16V32, _, H26V34, _, H36V36, _)."
   ]
  },
  {
   "cell_type": "code",
   "execution_count": null,
   "metadata": {},
   "outputs": [],
   "source": []
  }
 ],
 "metadata": {
  "kernelspec": {
   "display_name": "Python 3",
   "language": "python",
   "name": "python3"
  },
  "language_info": {
   "codemirror_mode": {
    "name": "ipython",
    "version": 3
   },
   "file_extension": ".py",
   "mimetype": "text/x-python",
   "name": "python",
   "nbconvert_exporter": "python",
   "pygments_lexer": "ipython3",
   "version": "3.7.4"
  }
 },
 "nbformat": 4,
 "nbformat_minor": 2
}
