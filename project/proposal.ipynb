{
 "cells": [
  {
   "cell_type": "markdown",
   "metadata": {
    "collapsed": true,
    "pycharm": {
     "name": "#%% md\n"
    }
   },
   "source": [
    "# Final Project Proposal\n",
    "\n",
    "Luke Steffen (lhs3)\n",
    "CS-344: Artificial Intelligence\n",
    "April 30, 2020\n",
    "\n",
    "---------------------------------------------------------------------------------------------------------------------\n",
    "Before I discuss my new project idea, I would like to make a quick note on what happened to my old project. Originally,\n",
    "I was going to do a facial recognition project that would tie in my Embedded Systems course. My plan was to use AWS's\n",
    "Rekognition for this project because I had experience using it and I knew it would be a good facial recognition AI.\n",
    "However, as I created an account and began looking into how Rekognition works, I realized that when you use AWS, you\n",
    "do not train any models, you only put the data into AWS's storage bin system, and Rekognition will do the rest of the\n",
    "work. This is because Rekognition is an AI Amazon has on a central server. The AI comes pre-trained and available for\n",
    "use when you create an account. Due to this fact, I figured using Rekognition would not be sufficient enough with\n",
    "regards to the final project, and I decided to change my final project.\n",
    "\n",
    "For my final project, I would like to create a Convolutional Neural Network which will be used for image processing\n",
    "classification. This project would be looking at the domain image processing, as I would like the use Keras' CIFAR-100\n",
    "dataset, which is a large collection of colored images. These images are all of common objects, like jets, cars, and\n",
    "animals. I would train my model and predict using this dataset, and I hope to achieve a high accuracy. \n",
    "\n",
    "My proposed basic technology would be a Convolutional Neural Network. I would set up the network specifically for\n",
    "image processing and use max pooling, 2DConv layers, and some amount of dense layers for the model. For the most part,\n",
    "I would mostly focus on training and testing the model, but I could potentially add some extra functionality, like\n",
    "passing the trained model an image to predict."
   ]
  }
 ],
 "metadata": {
  "kernelspec": {
   "display_name": "Python 3",
   "language": "python",
   "name": "python3"
  },
  "language_info": {
   "codemirror_mode": {
    "name": "ipython",
    "version": 2
   },
   "file_extension": ".py",
   "mimetype": "text/x-python",
   "name": "python",
   "nbconvert_exporter": "python",
   "pygments_lexer": "ipython2",
   "version": "2.7.6"
  },
  "pycharm": {
   "stem_cell": {
    "cell_type": "raw",
    "source": [],
    "metadata": {
     "collapsed": false
    }
   }
  }
 },
 "nbformat": 4,
 "nbformat_minor": 0
}