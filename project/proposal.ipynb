{
 "cells": [
  {
   "cell_type": "markdown",
   "metadata": {
    "collapsed": true,
    "pycharm": {
     "name": "#%% md\n"
    }
   },
   "source": [
    "# Final Project Proposal\n",
    "\n",
    "Luke Steffen (lhs3)\n",
    "\n",
    "CS-344: Artificial Intelligence\n",
    "\n",
    "May 7, 2020\n",
    "\n",
    "------------------------------------------------------------------------------------------------------------------\n",
    "Before I discuss my new project idea, I would like to make a quick note on what happened to my old project. Originally, I was going to do a facial recognition project that would tie in my Embedded Systems course. My plan was to use AWS's Rekognition for this project because I had experience using it and I knew it would be a good facial recognition AI. However, as I created an account and began looking into how Rekognition works, I realized that when you use AWS, you do not train any models, you only put the data into AWS's storage bin system, and Rekognition will do the rest of the work. This is because Rekognition is an AI Amazon has on a central server. The AI comes pre-trained and available for use when you create an account. Due to this fact, I figured using Rekognition would not be sufficient enough with regards to the final project, and I decided to change my final project.\n",
    "\n",
    "**Vision** - My project vision is a Convolutional Neural Network which will be used for image analysis and classification. Ideally, my project will be trained to identify a number of objects with hopefully higher accuracy. Once the model is trained, I would use the model to identify the objects it was trained on within other images. The program would take an input image and output the image with a box surrounding the object it has identified (I will make the bounding box visible). In addition to the object, the program will also return the object it has identified with its confidence.\n",
    "\n",
    "**Background** - I will be using Keras for model creation and training and Python as my main language. To train the model, I will be using the CIFAR-100 dataset, and the objects being identified will be the objects identified in the dataset. I will also be using numPy and Pandas to massage the data and Matplotlib to display/outline images. I will use OpenCV to resize and manipulate images, if necessary.\n",
    "\n",
    "**Implementation** - While I cannot exactly say how I will implement this project, there are a few resources I have found that will help me implement them. These resources are linked below:\n",
    "\n",
    "https://towardsdatascience.com/image-detection-from-scratch-in-keras-f314872006c9?gi=8c4f31f59929\n",
    "\n",
    "https://towardsdatascience.com/image-detection-from-scratch-in-keras-f314872006c9?gi=8c4f31f59929\n",
    "\n",
    "https://machinelearningmastery.com/how-to-perform-object-detection-in-photographs-with-mask-r-cnn-in-keras/\n",
    "\n",
    "In addition to a few of these resources, I will most likely use others that I have not found at this time.\n",
    "\n",
    "**Results** - My ideal result would be a bounding box over the image given, with the AI's confidence of the object it has identified. Ideally, I would like confidence at or above 80%.\n",
    "\n",
    "**Implications** - There are some larger social applications, especially in the realm of privacy. The first pressing implication is facial recognition. Because AI is able to recognize faces now, this can be used to easily identify people and differentiate between faces. This can easily be used to track people's movements, which is a large breach of privacy. This kind of privacy breach can easily create a sense of fear in people being watched and is detrimental to society. This kind of tool is far more likley to be used improperly, and the temptation it creates for governments is very strong. This project does not focus on facial recognition, just object identification, but this does not mean there are no privacy issues. Object identification can still be a privacy issue on the basis that while this program cannot identify faces, it can identify objects in a person's possession. While this may be useful in some instances, like identifying a weapon on a person, it can also be easily used to find out what a person buys or owns without their knowledge. This kind of information can give a lot of insight into a person's life, and this kind of tool should not be used lightly or without large privacy concerns.\n",
    "\n",
    "------------------------------------------------------------------------------------------------------------------\n",
    "\n",
    "My proposed basic technology would be a Convolutional Neural Network. I would set up the network specifically for\n",
    "image processing and use max pooling, 2DConv layers, and some amount of dense layers for the model. For the most part, I would mostly focus on training and testing the model, but I could potentially add some extra functionality, like passing the trained model an image to predict."
   ]
  }
 ],
 "metadata": {
  "kernelspec": {
   "display_name": "Python 3",
   "language": "python",
   "name": "python3"
  },
  "language_info": {
   "codemirror_mode": {
    "name": "ipython",
    "version": 3
   },
   "file_extension": ".py",
   "mimetype": "text/x-python",
   "name": "python",
   "nbconvert_exporter": "python",
   "pygments_lexer": "ipython3",
   "version": "3.7.4"
  },
  "pycharm": {
   "stem_cell": {
    "cell_type": "raw",
    "metadata": {
     "collapsed": false
    },
    "source": []
   }
  }
 },
 "nbformat": 4,
 "nbformat_minor": 1
}
