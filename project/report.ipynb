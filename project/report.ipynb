{
  "nbformat": 4,
  "nbformat_minor": 0,
  "metadata": {
    "colab": {
      "name": "report.ipynb",
      "provenance": [],
      "collapsed_sections": []
    },
    "kernelspec": {
      "name": "python3",
      "display_name": "Python 3"
    }
  },
  "cells": [
    {
      "cell_type": "markdown",
      "metadata": {
        "id": "HuQ6-dwNVFp4",
        "colab_type": "text"
      },
      "source": [
        "# CS-344: Artificial Intelligence\n",
        "## Final Project\n",
        "\n",
        "Author: Luke Steffen (lhs3)\n",
        "\n",
        "Version: 05/15/2020"
      ]
    },
    {
      "cell_type": "code",
      "metadata": {
        "id": "9f17toY9V07z",
        "colab_type": "code",
        "colab": {}
      },
      "source": [
        "# Imports\n",
        "from keras.datasets import cifar100\n",
        "(train_images, train_labels), (test_images, test_labels) = cifar100.load_data()\n",
        "import matplotlib.pyplot as plt\n",
        "from keras import layers\n",
        "from keras import models\n",
        "from keras.utils import to_categorical"
      ],
      "execution_count": 0,
      "outputs": []
    },
    {
      "cell_type": "code",
      "metadata": {
        "id": "93kG3Rz-YERz",
        "colab_type": "code",
        "colab": {
          "base_uri": "https://localhost:8080/",
          "height": 552
        },
        "outputId": "6baf5ee1-a04f-4188-c92c-ddf6714ceaef"
      },
      "source": [
        "# Examine the data and print an example image\n",
        "\n",
        "print(\n",
        "    f'training images \\\n",
        "        \\n\\tcount: {len(train_labels)} \\\n",
        "        \\n\\tshape: {train_images.shape} \\\n",
        "        \\n\\timage data type: {train_images.dtype} \\\n",
        "        \\n\\tlabel data type: {train_labels.dtype}\\n',\n",
        "    f'testing images \\\n",
        "        \\n\\tcount: {len(test_labels)} \\\n",
        "        \\n\\tshape: {test_images.shape}\\n',\n",
        "    f'example: \\\n",
        "        \\n\\tpixel value: {train_images[0,5,20]} \\\n",
        "        \\n\\tlabel value: {train_labels[0]}\\n',\n",
        "    'example image:'\n",
        ")\n",
        "\n",
        "cifar_image = train_images[0]\n",
        "plt.imshow(cifar_image, cmap=plt.cm.binary)"
      ],
      "execution_count": 28,
      "outputs": [
        {
          "output_type": "stream",
          "text": [
            "training images         \n",
            "\tcount: 50000         \n",
            "\tshape: (50000, 32, 32, 3)         \n",
            "\timage data type: float32         \n",
            "\tlabel data type: float32\n",
            " testing images         \n",
            "\tcount: 10000         \n",
            "\tshape: (10000, 32, 32, 3)\n",
            " example:         \n",
            "\tpixel value: [0.49411765 0.34901962 0.3137255 ]         \n",
            "\tlabel value: [0. 0. 0. 0. 0. 0. 0. 0. 0. 0. 0. 0. 0. 0. 0. 0. 0. 0. 0. 1. 0. 0. 0. 0.\n",
            " 0. 0. 0. 0. 0. 0. 0. 0. 0. 0. 0. 0. 0. 0. 0. 0. 0. 0. 0. 0. 0. 0. 0. 0.\n",
            " 0. 0. 0. 0. 0. 0. 0. 0. 0. 0. 0. 0. 0. 0. 0. 0. 0. 0. 0. 0. 0. 0. 0. 0.\n",
            " 0. 0. 0. 0. 0. 0. 0. 0. 0. 0. 0. 0. 0. 0. 0. 0. 0. 0. 0. 0. 0. 0. 0. 0.\n",
            " 0. 0. 0. 0.]\n",
            " example image:\n"
          ],
          "name": "stdout"
        },
        {
          "output_type": "execute_result",
          "data": {
            "text/plain": [
              "<matplotlib.image.AxesImage at 0x7f1547db1358>"
            ]
          },
          "metadata": {
            "tags": []
          },
          "execution_count": 28
        },
        {
          "output_type": "display_data",
          "data": {
            "image/png": "[encoded data removed]",
            "text/plain": [
              "<Figure size 432x288 with 1 Axes>"
            ]
          },
          "metadata": {
            "tags": [],
            "needs_background": "light"
          }
        }
      ]
    },
    {
      "cell_type": "code",
      "metadata": {
        "id": "LKaHQrgfMzEA",
        "colab_type": "code",
        "colab": {}
      },
      "source": [
        "# Create labels\n",
        "# Note: The CIFAR-100 labels are organized alphabetically. This means that the\n",
        "# labels can be created manually by creating an array of label names and organizing\n",
        "# them alphabetically. The label names can be found at https://www.cs.toronto.edu/~kriz/cifar.html\n",
        "labels = [\"beaver\", \"dolphin\", \"otter\", \"seal\", \"whale\", \"aquarium_fish\", \"flatfish\",\n",
        "          \"ray\", \"shark\", \"trout\", \"orchids\", \"poppies\", \"roses\", \"sunflowers\", \"tulips\",\n",
        "          \"bottles\", \"bowls\", \"cans\", \"cups\", \"plates\", \"apples\", \"mushrooms\", \"oranges\",\n",
        "          \"pears\", \"sweet_pepper\", \"clock\", \"computer_keyboard\", \"lamp\", \"telephone\",\n",
        "          \"television\", \"bed\", \"chair\", \"couch\", \"table\", \"wardrobe\", \"bee\", \"beetle\",\n",
        "          \"butterfly\", \"caterpillar\", \"cockroach\", \"bear\", \"leopard\", \"lion\", \"tiger\", \n",
        "          \"wolf\", \"bridge\", \"castle\", \"house\", \"road\", \"skyscraper\", \"cloud\", \"forest\", \n",
        "          \"mountain\", \"plain\", \"sea\", \"camel\", \"cattle\", \"chimpanzee\", \"elephant\", \n",
        "          \"kangaroo\", \"fox\", \"porcupine\", \"possum\", \"racoon\", \"skunk\", \"crab\", \"lobster\", \n",
        "          \"snail\", \"spider\", \"worm\", \"baby\", \"boy\", \"girl\", \"man\", \"woman\", \"crocodile\", \n",
        "          \"dinosaur\", \"lizard\", \"snake\", \"turtle\", \"hamster\", \"mouse\", \"rabbit\", \"shrew\", \n",
        "          \"squirrel\", \"maple_tree\", \"oak_tree\", \"palm_tree\", \"pine_tree\", \"willow_tree\", \"bicycle\", \"bus\", \"motorcycle\", \n",
        "          \"pickup truck\", \"train\", \"lawn_mower\", \"rocket\", \"streetcar\", \"tank\", \"tractor\"]\n",
        "\n",
        "labels.sort()\n",
        "\n",
        "mapping = {\n",
        "'aquatic mammals': ['beaver', 'dolphin', 'otter', 'seal', 'whale'],\n",
        "'fish': ['aquarium_fish', 'flatfish', 'ray', 'shark', 'trout'],\n",
        "'flowers': ['orchid', 'poppy', 'rose', 'sunflower', 'tulip'],\n",
        "'food containers': ['bottle', 'bowl', 'can', 'cup', 'plate'],\n",
        "'fruit and vegetables': ['apple', 'mushroom', 'orange', 'pear', 'sweet_pepper'],\n",
        "'household electrical device': ['clock', 'computer_keyboard', 'lamp', 'telephone', 'television'],\n",
        "'household furniture': ['bed', 'chair', 'couch', 'table', 'wardrobe'],\n",
        "'insects': ['bee', 'beetle', 'butterfly', 'caterpillar', 'cockroach'],\n",
        "'large carnivores': ['bear', 'leopard', 'lion', 'tiger', 'wolf'],\n",
        "'large man-made outdoor things': ['bridge', 'castle', 'house', 'road', 'skyscraper'],\n",
        "'large natural outdoor scenes': ['cloud', 'forest', 'mountain', 'plain', 'sea'],\n",
        "'large omnivores and herbivores': ['camel', 'cattle', 'chimpanzee', 'elephant', 'kangaroo'],\n",
        "'medium-sized mammals': ['fox', 'porcupine', 'possum', 'raccoon', 'skunk'],\n",
        "'non-insect invertebrates': ['crab', 'lobster', 'snail', 'spider', 'worm'],\n",
        "'people': ['baby', 'boy', 'girl', 'man', 'woman'],\n",
        "'reptiles': ['crocodile', 'dinosaur', 'lizard', 'snake', 'turtle'],\n",
        "'small mammals': ['hamster', 'mouse', 'rabbit', 'shrew', 'squirrel'],\n",
        "'trees': ['maple_tree', 'oak_tree', 'palm_tree', 'pine_tree', 'willow_tree'],\n",
        "'vehicles 1': ['bicycle', 'bus', 'motorcycle', 'pickup_truck', 'train'],\n",
        "'vehicles 2': ['lawn_mower', 'rocket', 'streetcar', 'tank', 'tractor'],\n",
        "}"
      ],
      "execution_count": 0,
      "outputs": []
    },
    {
      "cell_type": "code",
      "metadata": {
        "id": "FtCHtkLtYw-4",
        "colab_type": "code",
        "colab": {
          "base_uri": "https://localhost:8080/",
          "height": 554
        },
        "outputId": "334877b3-1569-44fe-b2f6-7119fa4e7ecd"
      },
      "source": [
        "# Create a model to fit the CIFAR-100 data\n",
        "model = models.Sequential()\n",
        "\n",
        "model.add(layers.Conv2D(32, kernel_size=(3, 3), activation=\"relu\", input_shape=(32, 32, 3)))\n",
        "model.add(layers.Conv2D(64, kernel_size=(3, 3), activation=\"relu\"))\n",
        "model.add(layers.MaxPooling2D(pool_size=(2, 2)))\n",
        "model.add(layers.Dropout(0.25))\n",
        "\n",
        "model.add(layers.Conv2D(128, kernel_size=(3, 3), activation=\"relu\"))\n",
        "model.add(layers.MaxPooling2D(pool_size=(2, 2)))\n",
        "model.add(layers.Conv2D(128, kernel_size=(3, 3), activation=\"relu\"))\n",
        "model.add(layers.MaxPooling2D(pool_size=(2, 2)))\n",
        "model.add(layers.Dropout(0.25))\n",
        "\n",
        "model.add(layers.Flatten())\n",
        "model.add(layers.Dense(1024, activation=\"relu\"))\n",
        "#model.add(layers.Dropout(0.5))\n",
        "model.add(layers.Dense(100, activation=\"softmax\"))\n",
        "\n",
        "model.summary()"
      ],
      "execution_count": 11,
      "outputs": [
        {
          "output_type": "stream",
          "text": [
            "Model: \"sequential_2\"\n",
            "_________________________________________________________________\n",
            "Layer (type)                 Output Shape              Param #   \n",
            "=================================================================\n",
            "conv2d_5 (Conv2D)            (None, 30, 30, 32)        896       \n",
            "_________________________________________________________________\n",
            "conv2d_6 (Conv2D)            (None, 28, 28, 64)        18496     \n",
            "_________________________________________________________________\n",
            "max_pooling2d_4 (MaxPooling2 (None, 14, 14, 64)        0         \n",
            "_________________________________________________________________\n",
            "dropout_3 (Dropout)          (None, 14, 14, 64)        0         \n",
            "_________________________________________________________________\n",
            "conv2d_7 (Conv2D)            (None, 12, 12, 128)       73856     \n",
            "_________________________________________________________________\n",
            "max_pooling2d_5 (MaxPooling2 (None, 6, 6, 128)         0         \n",
            "_________________________________________________________________\n",
            "conv2d_8 (Conv2D)            (None, 4, 4, 128)         147584    \n",
            "_________________________________________________________________\n",
            "max_pooling2d_6 (MaxPooling2 (None, 2, 2, 128)         0         \n",
            "_________________________________________________________________\n",
            "dropout_4 (Dropout)          (None, 2, 2, 128)         0         \n",
            "_________________________________________________________________\n",
            "flatten_2 (Flatten)          (None, 512)               0         \n",
            "_________________________________________________________________\n",
            "dense_3 (Dense)              (None, 1024)              525312    \n",
            "_________________________________________________________________\n",
            "dense_4 (Dense)              (None, 100)               102500    \n",
            "=================================================================\n",
            "Total params: 868,644\n",
            "Trainable params: 868,644\n",
            "Non-trainable params: 0\n",
            "_________________________________________________________________\n"
          ],
          "name": "stdout"
        }
      ]
    },
    {
      "cell_type": "code",
      "metadata": {
        "id": "uSKU78v2aC9i",
        "colab_type": "code",
        "colab": {}
      },
      "source": [
        "# Convert data to categorical data\n",
        "train_images = train_images.reshape((50000, 32, 32, 3))\n",
        "train_images = train_images.astype('float32') / 255\n",
        "\n",
        "test_images = test_images.reshape((10000, 32, 32, 3))\n",
        "test_images = test_images.astype('float32') / 255\n",
        "\n",
        "train_labels = to_categorical(train_labels)\n",
        "test_labels = to_categorical(test_labels)"
      ],
      "execution_count": 0,
      "outputs": []
    },
    {
      "cell_type": "code",
      "metadata": {
        "id": "In8kXa6Aaai2",
        "colab_type": "code",
        "colab": {
          "base_uri": "https://localhost:8080/",
          "height": 218
        },
        "outputId": "9a42dd08-b0f7-44c5-d957-1ec54968f3da"
      },
      "source": [
        "# Train the model for the program\n",
        "model.compile(optimizer='rmsprop',\n",
        "              loss='categorical_crossentropy',\n",
        "              metrics=['accuracy'])\n",
        "model.fit(train_images, train_labels, epochs=5, batch_size=64)\n",
        "model.evaluate(test_images, test_labels)"
      ],
      "execution_count": 13,
      "outputs": [
        {
          "output_type": "stream",
          "text": [
            "Epoch 1/5\n",
            "50000/50000 [==============================] - 269s 5ms/step - loss: 3.9256 - accuracy: 0.1009\n",
            "Epoch 2/5\n",
            "50000/50000 [==============================] - 263s 5ms/step - loss: 3.2321 - accuracy: 0.2183\n",
            "Epoch 3/5\n",
            "50000/50000 [==============================] - 267s 5ms/step - loss: 2.8353 - accuracy: 0.2913\n",
            "Epoch 4/5\n",
            "50000/50000 [==============================] - 262s 5ms/step - loss: 2.5698 - accuracy: 0.3456\n",
            "Epoch 5/5\n",
            "50000/50000 [==============================] - 261s 5ms/step - loss: 2.3666 - accuracy: 0.3877\n",
            "10000/10000 [==============================] - 15s 1ms/step\n"
          ],
          "name": "stdout"
        },
        {
          "output_type": "execute_result",
          "data": {
            "text/plain": [
              "[2.514112180709839, 0.36730000376701355]"
            ]
          },
          "metadata": {
            "tags": []
          },
          "execution_count": 13
        }
      ]
    },
    {
      "cell_type": "markdown",
      "metadata": {
        "id": "3u_l775U16L6",
        "colab_type": "text"
      },
      "source": [
        "Image for the model to predict\n",
        "![Picture](https://drive.google.com/uc?id=18nTMqhPb45Jy2x7kD7B1qmA7AEuKQTTP)"
      ]
    },
    {
      "cell_type": "code",
      "metadata": {
        "id": "sRu-RFqDz2kz",
        "colab_type": "code",
        "colab": {
          "base_uri": "https://localhost:8080/",
          "height": 66
        },
        "outputId": "d186eb90-e1ec-4eaa-c5af-5eec7f1dcf97"
      },
      "source": [
        "# Use the model to predict an image of a camel\n",
        "import numpy as np\n",
        "from PIL import Image\n",
        "import requests\n",
        "from io import BytesIO\n",
        "import cv2\n",
        "from google.colab.patches import cv2_imshow\n",
        "\n",
        "response = requests.get(\"https://drive.google.com/uc?id=18nTMqhPb45Jy2x7kD7B1qmA7AEuKQTTP\")\n",
        "img = Image.open(BytesIO(response.content))\n",
        "img = np.array(img.getdata()).reshape(img.size[0], img.size[1], 3)\n",
        "img = img.reshape(img.shape[0], img.shape[1], 3).astype(\"float32\")\n",
        "img = cv2.resize(img, dsize=(32, 32))\n",
        "\n",
        "# Note: This shows that image compression is just as important for prediction\n",
        "cv2_imshow(img)\n",
        "\n",
        "img = np.expand_dims(img, 0) # make 'batch' of 1\n",
        "\n",
        "pred = model.predict(img)\n",
        "print(\"Fine Label: \" + labels[np.argmax(pred)])"
      ],
      "execution_count": 57,
      "outputs": [
        {
          "output_type": "display_data",
          "data": {
            "image/png": "[encoded data removed]",
            "text/plain": [
              "<PIL.Image.Image image mode=RGB size=32x32 at 0x7F1547CC94E0>"
            ]
          },
          "metadata": {
            "tags": []
          }
        },
        {
          "output_type": "stream",
          "text": [
            "Fine Label: sunflowers\n"
          ],
          "name": "stdout"
        }
      ]
    }
  ]
}